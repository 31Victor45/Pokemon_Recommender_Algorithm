{
 "cells": [
  {
   "cell_type": "markdown",
   "id": "ea0d727b",
   "metadata": {},
   "source": [
    "# Problema inicial: Cuales serían los mejores pokemon para ayudarme a convertime en campeón de Sinnoh ?\n",
    "\n",
    "El otro día me encotraba jugando pokemon Diamente Brillante y mientras avanzaba en la aventura me preguntaba cuales pokemon serían los ideales para mi equipo soñado y con el convertirme en campeón de la liga Sinnoh.\n",
    " \n",
    "<center>\n",
    "<img src=\"img/games.jpg\" width=\"550\" height=\"300\">\n",
    "</center>"
   ]
  },
  {
   "cell_type": "markdown",
   "id": "39789647",
   "metadata": {},
   "source": [
    "Al principio tenía algunas dudas sobre los tipos y las estadísticas que quería que tuvieran dichos pokemon, los cuales serían incluidos en mi equipo y no podia evitar preguntarme:\n",
    "* Que pokemones de tipo agua con un alto ataque especial (mayor a 100) y una alta velocidad (mayor a 100) me serían útiles para ayudarme a completar el desafío que me habia propuesto ?\n",
    "* Cuales pokemones de de tipo roca tenían la defensa más alta posible ?\n",
    "\n",
    "Ante este tipo de interrogantes me frustraba un poco ya que si bien existen aplicaciones en la app store que ayudan a filtrar los pokemon acorde a sus tipo y a ordenarlos acorde a una estadistica en concreto ; no existia una app que me recomendara los mismos acorde a las necesidades que yo tuviera\n",
    "\n",
    "# La solución a mi problema\n",
    "\n",
    "Sabiendo que tengo conocimientos en el algoritmo de la similitud del coseno me he propuesto hacer un sistema de recomedación para ayudarme con mi problema como se muetra en la infografía\n",
    "\n",
    "<center>\n",
    "<img src=\"img/info.png\" width=\"850\" height=\"500\">\n",
    "</center>"
   ]
  },
  {
   "cell_type": "markdown",
   "id": "5a218768",
   "metadata": {},
   "source": [
    "Y de esta manera planeo dar solución a mi problema creando una aplicación usando streamlit que me permita cada vez que lo necesite insertar determindas características de un pokemon deseado y que la misma de recomiende los pokemones que mejor se ajustan a dichas características "
   ]
  }
 ],
 "metadata": {
  "language_info": {
   "name": "python"
  }
 },
 "nbformat": 4,
 "nbformat_minor": 5
}
